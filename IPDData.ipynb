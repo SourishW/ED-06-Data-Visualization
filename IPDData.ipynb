{
 "cells": [
  {
   "cell_type": "code",
   "execution_count": 1,
   "metadata": {},
   "outputs": [],
   "source": [
    "import pandas as pd\n",
    "import numpy as np\n",
    "import seaborn as sns\n",
    "import matplotlib.pyplot as plt"
   ]
  },
  {
   "cell_type": "code",
   "execution_count": 10,
   "metadata": {},
   "outputs": [
    {
     "data": {
      "text/html": [
       "<div>\n",
       "<style scoped>\n",
       "    .dataframe tbody tr th:only-of-type {\n",
       "        vertical-align: middle;\n",
       "    }\n",
       "\n",
       "    .dataframe tbody tr th {\n",
       "        vertical-align: top;\n",
       "    }\n",
       "\n",
       "    .dataframe thead th {\n",
       "        text-align: right;\n",
       "    }\n",
       "</style>\n",
       "<table border=\"1\" class=\"dataframe\">\n",
       "  <thead>\n",
       "    <tr style=\"text-align: right;\">\n",
       "      <th></th>\n",
       "      <th>ID</th>\n",
       "      <th>Rank</th>\n",
       "      <th>Author</th>\n",
       "      <th>Strategy name</th>\n",
       "      <th>Passed sanity check? (no crash)</th>\n",
       "      <th>Trial count</th>\n",
       "      <th>Average of (SCORE*100)</th>\n",
       "      <th>95% margin of error of (SCORE*100)</th>\n",
       "      <th>Stdev of (SCORE*100)</th>\n",
       "      <th>% turns cooperated (equal weight to each game regardless of game length)</th>\n",
       "      <th>% coop rate stdev across diff opponents</th>\n",
       "      <th>Days after announcement submitted</th>\n",
       "      <th>Non-empty lines of code</th>\n",
       "      <th>Runtime against 9 defaults (in ms) (~2,250 runs)</th>\n",
       "      <th>A/B branch</th>\n",
       "    </tr>\n",
       "  </thead>\n",
       "  <tbody>\n",
       "    <tr>\n",
       "      <th>0</th>\n",
       "      <td>userStrats.s868</td>\n",
       "      <td>#1</td>\n",
       "      <td>Simon</td>\n",
       "      <td>RandomFinder.py</td>\n",
       "      <td>TRUE</td>\n",
       "      <td>300</td>\n",
       "      <td>288.184</td>\n",
       "      <td>±0.029</td>\n",
       "      <td>45.667</td>\n",
       "      <td>89.137</td>\n",
       "      <td>26.481</td>\n",
       "      <td>5.42139</td>\n",
       "      <td>36</td>\n",
       "      <td>94.145</td>\n",
       "      <td>1</td>\n",
       "    </tr>\n",
       "    <tr>\n",
       "      <th>1</th>\n",
       "      <td>userStrats.s1325</td>\n",
       "      <td>#2</td>\n",
       "      <td>Vanderlism</td>\n",
       "      <td>just_clever_enough.py</td>\n",
       "      <td>TRUE</td>\n",
       "      <td>300</td>\n",
       "      <td>288.003</td>\n",
       "      <td>±0.025</td>\n",
       "      <td>47.322</td>\n",
       "      <td>88.942</td>\n",
       "      <td>27.138</td>\n",
       "      <td>6.88757</td>\n",
       "      <td>41</td>\n",
       "      <td>100.483</td>\n",
       "      <td>1</td>\n",
       "    </tr>\n",
       "    <tr>\n",
       "      <th>2</th>\n",
       "      <td>userStrats.s704</td>\n",
       "      <td>#3</td>\n",
       "      <td>Sami</td>\n",
       "      <td>friendlyLookup.py</td>\n",
       "      <td>TRUE</td>\n",
       "      <td>300</td>\n",
       "      <td>286.983</td>\n",
       "      <td>±0.033</td>\n",
       "      <td>54.637</td>\n",
       "      <td>84.668</td>\n",
       "      <td>30.795</td>\n",
       "      <td>4.08069</td>\n",
       "      <td>136</td>\n",
       "      <td>7410.178</td>\n",
       "      <td>2</td>\n",
       "    </tr>\n",
       "    <tr>\n",
       "      <th>3</th>\n",
       "      <td>userStrats.s1382</td>\n",
       "      <td>#4</td>\n",
       "      <td>Chiberty and Silivek (two people)</td>\n",
       "      <td>burntBrass.py</td>\n",
       "      <td>TRUE</td>\n",
       "      <td>300</td>\n",
       "      <td>286.606</td>\n",
       "      <td>±0.029</td>\n",
       "      <td>48.732</td>\n",
       "      <td>89.277</td>\n",
       "      <td>26.758</td>\n",
       "      <td>6.95295</td>\n",
       "      <td>44</td>\n",
       "      <td>216.727</td>\n",
       "      <td>1</td>\n",
       "    </tr>\n",
       "    <tr>\n",
       "      <th>4</th>\n",
       "      <td>userStrats.s1205</td>\n",
       "      <td>#5</td>\n",
       "      <td>usedToBeTomas</td>\n",
       "      <td>n3ptune.py</td>\n",
       "      <td>TRUE</td>\n",
       "      <td>300</td>\n",
       "      <td>286.304</td>\n",
       "      <td>±0.038</td>\n",
       "      <td>52.027</td>\n",
       "      <td>87.778</td>\n",
       "      <td>29.055</td>\n",
       "      <td>6.67175</td>\n",
       "      <td>87</td>\n",
       "      <td>105.486</td>\n",
       "      <td>1</td>\n",
       "    </tr>\n",
       "  </tbody>\n",
       "</table>\n",
       "</div>"
      ],
      "text/plain": [
       "                 ID Rank                             Author  \\\n",
       "0   userStrats.s868   #1                              Simon   \n",
       "1  userStrats.s1325   #2                         Vanderlism   \n",
       "2   userStrats.s704   #3                               Sami   \n",
       "3  userStrats.s1382   #4  Chiberty and Silivek (two people)   \n",
       "4  userStrats.s1205   #5                      usedToBeTomas   \n",
       "\n",
       "           Strategy name Passed sanity check? (no crash)  Trial count  \\\n",
       "0        RandomFinder.py                            TRUE          300   \n",
       "1  just_clever_enough.py                            TRUE          300   \n",
       "2      friendlyLookup.py                            TRUE          300   \n",
       "3          burntBrass.py                            TRUE          300   \n",
       "4             n3ptune.py                            TRUE          300   \n",
       "\n",
       "   Average of (SCORE*100) 95% margin of error of (SCORE*100)  \\\n",
       "0                 288.184                             ±0.029   \n",
       "1                 288.003                             ±0.025   \n",
       "2                 286.983                             ±0.033   \n",
       "3                 286.606                             ±0.029   \n",
       "4                 286.304                             ±0.038   \n",
       "\n",
       "   Stdev of (SCORE*100)  \\\n",
       "0                45.667   \n",
       "1                47.322   \n",
       "2                54.637   \n",
       "3                48.732   \n",
       "4                52.027   \n",
       "\n",
       "   % turns cooperated (equal weight to each game regardless of game length)  \\\n",
       "0                                             89.137                          \n",
       "1                                             88.942                          \n",
       "2                                             84.668                          \n",
       "3                                             89.277                          \n",
       "4                                             87.778                          \n",
       "\n",
       "   % coop rate stdev across diff opponents  Days after announcement submitted  \\\n",
       "0                                   26.481                            5.42139   \n",
       "1                                   27.138                            6.88757   \n",
       "2                                   30.795                            4.08069   \n",
       "3                                   26.758                            6.95295   \n",
       "4                                   29.055                            6.67175   \n",
       "\n",
       "   Non-empty lines of code  Runtime against 9 defaults (in ms) (~2,250 runs)  \\\n",
       "0                       36                                            94.145   \n",
       "1                       41                                           100.483   \n",
       "2                      136                                          7410.178   \n",
       "3                       44                                           216.727   \n",
       "4                       87                                           105.486   \n",
       "\n",
       "   A/B branch  \n",
       "0           1  \n",
       "1           1  \n",
       "2           2  \n",
       "3           1  \n",
       "4           1  "
      ]
     },
     "execution_count": 10,
     "metadata": {},
     "output_type": "execute_result"
    }
   ],
   "source": [
    "df = pd.read_csv(\"pdata.csv\", skiprows=range(3))\n",
    "# df.columns\n",
    "df = df[df['Passed sanity check? (no crash)']==\"TRUE\"]\n",
    "df.head()"
   ]
  },
  {
   "cell_type": "code",
   "execution_count": 11,
   "metadata": {},
   "outputs": [
    {
     "data": {
      "text/plain": [
       "Text(0.5, 1.0, 'Distribution of scores')"
      ]
     },
     "execution_count": 11,
     "metadata": {},
     "output_type": "execute_result"
    },
    {
     "data": {
      "image/png": "[encoded data removed]",
      "text/plain": [
       "<Figure size 432x288 with 1 Axes>"
      ]
     },
     "metadata": {
      "needs_background": "light"
     },
     "output_type": "display_data"
    }
   ],
   "source": [
    "sns.histplot(data=df[\"Average of (SCORE*100)\"], binwidth=5)\n",
    "plt.title(\"Distribution of scores\")"
   ]
  },
  {
   "cell_type": "code",
   "execution_count": 12,
   "metadata": {},
   "outputs": [
    {
     "data": {
      "text/plain": [
       "Text(0.5, 1.0, 'Lines of code')"
      ]
     },
     "execution_count": 12,
     "metadata": {},
     "output_type": "execute_result"
    },
    {
     "data": {
      "image/png": "[encoded data removed]",
      "text/plain": [
       "<Figure size 432x288 with 1 Axes>"
      ]
     },
     "metadata": {
      "needs_background": "light"
     },
     "output_type": "display_data"
    }
   ],
   "source": [
    "sns.histplot(data=df[\"Non-empty lines of code\"], binwidth=25)\n",
    "plt.title(\"Lines of code\")"
   ]
  },
  {
   "cell_type": "code",
   "execution_count": 13,
   "metadata": {},
   "outputs": [
    {
     "data": {
      "text/html": [
       "<div>\n",
       "<style scoped>\n",
       "    .dataframe tbody tr th:only-of-type {\n",
       "        vertical-align: middle;\n",
       "    }\n",
       "\n",
       "    .dataframe tbody tr th {\n",
       "        vertical-align: top;\n",
       "    }\n",
       "\n",
       "    .dataframe thead th {\n",
       "        text-align: right;\n",
       "    }\n",
       "</style>\n",
       "<table border=\"1\" class=\"dataframe\">\n",
       "  <thead>\n",
       "    <tr style=\"text-align: right;\">\n",
       "      <th></th>\n",
       "      <th>Trial count</th>\n",
       "      <th>Average of (SCORE*100)</th>\n",
       "      <th>Stdev of (SCORE*100)</th>\n",
       "      <th>% turns cooperated (equal weight to each game regardless of game length)</th>\n",
       "      <th>% coop rate stdev across diff opponents</th>\n",
       "      <th>Days after announcement submitted</th>\n",
       "      <th>Non-empty lines of code</th>\n",
       "      <th>Runtime against 9 defaults (in ms) (~2,250 runs)</th>\n",
       "      <th>A/B branch</th>\n",
       "    </tr>\n",
       "  </thead>\n",
       "  <tbody>\n",
       "    <tr>\n",
       "      <th>count</th>\n",
       "      <td>1433.000000</td>\n",
       "      <td>1433.000000</td>\n",
       "      <td>1433.000000</td>\n",
       "      <td>1433.000000</td>\n",
       "      <td>1433.000000</td>\n",
       "      <td>1433.000000</td>\n",
       "      <td>1433.000000</td>\n",
       "      <td>1433.000000</td>\n",
       "      <td>1433.000000</td>\n",
       "    </tr>\n",
       "    <tr>\n",
       "      <th>mean</th>\n",
       "      <td>41.814375</td>\n",
       "      <td>252.346587</td>\n",
       "      <td>72.463188</td>\n",
       "      <td>72.902856</td>\n",
       "      <td>30.098114</td>\n",
       "      <td>4.252615</td>\n",
       "      <td>45.133287</td>\n",
       "      <td>197.795478</td>\n",
       "      <td>1.484997</td>\n",
       "    </tr>\n",
       "    <tr>\n",
       "      <th>std</th>\n",
       "      <td>21.651161</td>\n",
       "      <td>37.526568</td>\n",
       "      <td>21.359995</td>\n",
       "      <td>21.004188</td>\n",
       "      <td>10.809181</td>\n",
       "      <td>2.605147</td>\n",
       "      <td>67.279059</td>\n",
       "      <td>584.416488</td>\n",
       "      <td>1.176447</td>\n",
       "    </tr>\n",
       "    <tr>\n",
       "      <th>min</th>\n",
       "      <td>40.000000</td>\n",
       "      <td>119.549000</td>\n",
       "      <td>39.353000</td>\n",
       "      <td>0.000000</td>\n",
       "      <td>0.000000</td>\n",
       "      <td>-0.392380</td>\n",
       "      <td>1.000000</td>\n",
       "      <td>0.000000</td>\n",
       "      <td>-1.000000</td>\n",
       "    </tr>\n",
       "    <tr>\n",
       "      <th>25%</th>\n",
       "      <td>40.000000</td>\n",
       "      <td>237.052000</td>\n",
       "      <td>55.908000</td>\n",
       "      <td>66.201000</td>\n",
       "      <td>23.204000</td>\n",
       "      <td>1.653080</td>\n",
       "      <td>15.000000</td>\n",
       "      <td>93.801000</td>\n",
       "      <td>0.000000</td>\n",
       "    </tr>\n",
       "    <tr>\n",
       "      <th>50%</th>\n",
       "      <td>40.000000</td>\n",
       "      <td>266.143000</td>\n",
       "      <td>71.562000</td>\n",
       "      <td>80.714000</td>\n",
       "      <td>31.265000</td>\n",
       "      <td>5.028010</td>\n",
       "      <td>27.000000</td>\n",
       "      <td>100.679000</td>\n",
       "      <td>2.000000</td>\n",
       "    </tr>\n",
       "    <tr>\n",
       "      <th>75%</th>\n",
       "      <td>40.000000</td>\n",
       "      <td>279.814000</td>\n",
       "      <td>88.246000</td>\n",
       "      <td>87.741000</td>\n",
       "      <td>38.775000</td>\n",
       "      <td>6.678400</td>\n",
       "      <td>51.000000</td>\n",
       "      <td>126.467000</td>\n",
       "      <td>3.000000</td>\n",
       "    </tr>\n",
       "    <tr>\n",
       "      <th>max</th>\n",
       "      <td>300.000000</td>\n",
       "      <td>288.184000</td>\n",
       "      <td>133.949000</td>\n",
       "      <td>100.000000</td>\n",
       "      <td>49.318000</td>\n",
       "      <td>9.026300</td>\n",
       "      <td>1052.000000</td>\n",
       "      <td>9271.942000</td>\n",
       "      <td>3.000000</td>\n",
       "    </tr>\n",
       "  </tbody>\n",
       "</table>\n",
       "</div>"
      ],
      "text/plain": [
       "       Trial count  Average of (SCORE*100)  Stdev of (SCORE*100)  \\\n",
       "count  1433.000000             1433.000000           1433.000000   \n",
       "mean     41.814375              252.346587             72.463188   \n",
       "std      21.651161               37.526568             21.359995   \n",
       "min      40.000000              119.549000             39.353000   \n",
       "25%      40.000000              237.052000             55.908000   \n",
       "50%      40.000000              266.143000             71.562000   \n",
       "75%      40.000000              279.814000             88.246000   \n",
       "max     300.000000              288.184000            133.949000   \n",
       "\n",
       "       % turns cooperated (equal weight to each game regardless of game length)  \\\n",
       "count                                        1433.000000                          \n",
       "mean                                           72.902856                          \n",
       "std                                            21.004188                          \n",
       "min                                             0.000000                          \n",
       "25%                                            66.201000                          \n",
       "50%                                            80.714000                          \n",
       "75%                                            87.741000                          \n",
       "max                                           100.000000                          \n",
       "\n",
       "       % coop rate stdev across diff opponents  \\\n",
       "count                              1433.000000   \n",
       "mean                                 30.098114   \n",
       "std                                  10.809181   \n",
       "min                                   0.000000   \n",
       "25%                                  23.204000   \n",
       "50%                                  31.265000   \n",
       "75%                                  38.775000   \n",
       "max                                  49.318000   \n",
       "\n",
       "       Days after announcement submitted  Non-empty lines of code  \\\n",
       "count                        1433.000000              1433.000000   \n",
       "mean                            4.252615                45.133287   \n",
       "std                             2.605147                67.279059   \n",
       "min                            -0.392380                 1.000000   \n",
       "25%                             1.653080                15.000000   \n",
       "50%                             5.028010                27.000000   \n",
       "75%                             6.678400                51.000000   \n",
       "max                             9.026300              1052.000000   \n",
       "\n",
       "       Runtime against 9 defaults (in ms) (~2,250 runs)   A/B branch  \n",
       "count                                       1433.000000  1433.000000  \n",
       "mean                                         197.795478     1.484997  \n",
       "std                                          584.416488     1.176447  \n",
       "min                                            0.000000    -1.000000  \n",
       "25%                                           93.801000     0.000000  \n",
       "50%                                          100.679000     2.000000  \n",
       "75%                                          126.467000     3.000000  \n",
       "max                                         9271.942000     3.000000  "
      ]
     },
     "execution_count": 13,
     "metadata": {},
     "output_type": "execute_result"
    }
   ],
   "source": [
    "df.describe()"
   ]
  },
  {
   "cell_type": "code",
   "execution_count": 14,
   "metadata": {},
   "outputs": [
    {
     "data": {
      "text/html": [
       "<div>\n",
       "<style scoped>\n",
       "    .dataframe tbody tr th:only-of-type {\n",
       "        vertical-align: middle;\n",
       "    }\n",
       "\n",
       "    .dataframe tbody tr th {\n",
       "        vertical-align: top;\n",
       "    }\n",
       "\n",
       "    .dataframe thead th {\n",
       "        text-align: right;\n",
       "    }\n",
       "</style>\n",
       "<table border=\"1\" class=\"dataframe\">\n",
       "  <thead>\n",
       "    <tr style=\"text-align: right;\">\n",
       "      <th></th>\n",
       "      <th>ID</th>\n",
       "      <th>Rank</th>\n",
       "      <th>Author</th>\n",
       "      <th>Strategy name</th>\n",
       "      <th>Passed sanity check? (no crash)</th>\n",
       "      <th>Trial count</th>\n",
       "      <th>Average of (SCORE*100)</th>\n",
       "      <th>95% margin of error of (SCORE*100)</th>\n",
       "      <th>Stdev of (SCORE*100)</th>\n",
       "      <th>% turns cooperated (equal weight to each game regardless of game length)</th>\n",
       "      <th>% coop rate stdev across diff opponents</th>\n",
       "      <th>Days after announcement submitted</th>\n",
       "      <th>Non-empty lines of code</th>\n",
       "      <th>Runtime against 9 defaults (in ms) (~2,250 runs)</th>\n",
       "      <th>A/B branch</th>\n",
       "    </tr>\n",
       "  </thead>\n",
       "  <tbody>\n",
       "    <tr>\n",
       "      <th>1279</th>\n",
       "      <td>userStrats.s1420</td>\n",
       "      <td>#1280</td>\n",
       "      <td>Thomas</td>\n",
       "      <td>thomas20..py</td>\n",
       "      <td>TRUE</td>\n",
       "      <td>40</td>\n",
       "      <td>195.553</td>\n",
       "      <td>±0.398</td>\n",
       "      <td>95.193</td>\n",
       "      <td>39.490</td>\n",
       "      <td>19.818</td>\n",
       "      <td>6.98618</td>\n",
       "      <td>1052</td>\n",
       "      <td>115.067</td>\n",
       "      <td>3</td>\n",
       "    </tr>\n",
       "    <tr>\n",
       "      <th>827</th>\n",
       "      <td>userStrats.s1581</td>\n",
       "      <td>#828</td>\n",
       "      <td>Solitary_Knight</td>\n",
       "      <td>idealist.py</td>\n",
       "      <td>TRUE</td>\n",
       "      <td>40</td>\n",
       "      <td>262.019</td>\n",
       "      <td>±0.072</td>\n",
       "      <td>85.527</td>\n",
       "      <td>72.017</td>\n",
       "      <td>43.594</td>\n",
       "      <td>7.90634</td>\n",
       "      <td>1031</td>\n",
       "      <td>249.996</td>\n",
       "      <td>2</td>\n",
       "    </tr>\n",
       "    <tr>\n",
       "      <th>180</th>\n",
       "      <td>userStrats.s511</td>\n",
       "      <td>#181</td>\n",
       "      <td>JackToaster</td>\n",
       "      <td>MassiveConglomerate.py</td>\n",
       "      <td>TRUE</td>\n",
       "      <td>40</td>\n",
       "      <td>283.862</td>\n",
       "      <td>±0.064</td>\n",
       "      <td>42.399</td>\n",
       "      <td>90.050</td>\n",
       "      <td>23.702</td>\n",
       "      <td>2.37031</td>\n",
       "      <td>837</td>\n",
       "      <td>2618.612</td>\n",
       "      <td>3</td>\n",
       "    </tr>\n",
       "    <tr>\n",
       "      <th>1003</th>\n",
       "      <td>userStrats.s754</td>\n",
       "      <td>#1004</td>\n",
       "      <td>Isaac Clayton</td>\n",
       "      <td>pris.py</td>\n",
       "      <td>TRUE</td>\n",
       "      <td>40</td>\n",
       "      <td>249.270</td>\n",
       "      <td>±0.290</td>\n",
       "      <td>86.862</td>\n",
       "      <td>59.413</td>\n",
       "      <td>31.651</td>\n",
       "      <td>4.65047</td>\n",
       "      <td>547</td>\n",
       "      <td>357.081</td>\n",
       "      <td>2</td>\n",
       "    </tr>\n",
       "    <tr>\n",
       "      <th>456</th>\n",
       "      <td>userStrats.s831</td>\n",
       "      <td>#457</td>\n",
       "      <td>none (submitting for my mum)</td>\n",
       "      <td>Angel.py</td>\n",
       "      <td>TRUE</td>\n",
       "      <td>40</td>\n",
       "      <td>277.018</td>\n",
       "      <td>±0.082</td>\n",
       "      <td>72.361</td>\n",
       "      <td>77.763</td>\n",
       "      <td>37.364</td>\n",
       "      <td>5.08312</td>\n",
       "      <td>469</td>\n",
       "      <td>165.009</td>\n",
       "      <td>3</td>\n",
       "    </tr>\n",
       "  </tbody>\n",
       "</table>\n",
       "</div>"
      ],
      "text/plain": [
       "                    ID   Rank                        Author  \\\n",
       "1279  userStrats.s1420  #1280                        Thomas   \n",
       "827   userStrats.s1581   #828               Solitary_Knight   \n",
       "180    userStrats.s511   #181                   JackToaster   \n",
       "1003   userStrats.s754  #1004                 Isaac Clayton   \n",
       "456    userStrats.s831   #457  none (submitting for my mum)   \n",
       "\n",
       "               Strategy name Passed sanity check? (no crash)  Trial count  \\\n",
       "1279            thomas20..py                            TRUE           40   \n",
       "827              idealist.py                            TRUE           40   \n",
       "180   MassiveConglomerate.py                            TRUE           40   \n",
       "1003                 pris.py                            TRUE           40   \n",
       "456                 Angel.py                            TRUE           40   \n",
       "\n",
       "      Average of (SCORE*100) 95% margin of error of (SCORE*100)  \\\n",
       "1279                 195.553                             ±0.398   \n",
       "827                  262.019                             ±0.072   \n",
       "180                  283.862                             ±0.064   \n",
       "1003                 249.270                             ±0.290   \n",
       "456                  277.018                             ±0.082   \n",
       "\n",
       "      Stdev of (SCORE*100)  \\\n",
       "1279                95.193   \n",
       "827                 85.527   \n",
       "180                 42.399   \n",
       "1003                86.862   \n",
       "456                 72.361   \n",
       "\n",
       "      % turns cooperated (equal weight to each game regardless of game length)  \\\n",
       "1279                                             39.490                          \n",
       "827                                              72.017                          \n",
       "180                                              90.050                          \n",
       "1003                                             59.413                          \n",
       "456                                              77.763                          \n",
       "\n",
       "      % coop rate stdev across diff opponents  \\\n",
       "1279                                   19.818   \n",
       "827                                    43.594   \n",
       "180                                    23.702   \n",
       "1003                                   31.651   \n",
       "456                                    37.364   \n",
       "\n",
       "      Days after announcement submitted  Non-empty lines of code  \\\n",
       "1279                            6.98618                     1052   \n",
       "827                             7.90634                     1031   \n",
       "180                             2.37031                      837   \n",
       "1003                            4.65047                      547   \n",
       "456                             5.08312                      469   \n",
       "\n",
       "      Runtime against 9 defaults (in ms) (~2,250 runs)  A/B branch  \n",
       "1279                                           115.067           3  \n",
       "827                                            249.996           2  \n",
       "180                                           2618.612           3  \n",
       "1003                                           357.081           2  \n",
       "456                                            165.009           3  "
      ]
     },
     "execution_count": 14,
     "metadata": {},
     "output_type": "execute_result"
    }
   ],
   "source": [
    "df.sort_values([\"Non-empty lines of code\"],ascending=False).head()"
   ]
  },
  {
   "cell_type": "code",
   "execution_count": 22,
   "metadata": {},
   "outputs": [
    {
     "data": {
      "text/plain": [
       "Text(0.5, 1.0, 'Score stdev')"
      ]
     },
     "execution_count": 22,
     "metadata": {},
     "output_type": "execute_result"
    },
    {
     "data": {
      "image/png": "[encoded data removed]",
      "text/plain": [
       "<Figure size 432x288 with 1 Axes>"
      ]
     },
     "metadata": {
      "needs_background": "light"
     },
     "output_type": "display_data"
    }
   ],
   "source": [
    "sns.histplot(data=df[\"Stdev of (SCORE*100)\"], bins=20)\n",
    "plt.title(\"Score stdev\")"
   ]
  },
  {
   "cell_type": "code",
   "execution_count": 23,
   "metadata": {},
   "outputs": [
    {
     "data": {
      "text/plain": [
       "Text(0.5, 1.0, 'Score stdev')"
      ]
     },
     "execution_count": 23,
     "metadata": {},
     "output_type": "execute_result"
    },
    {
     "data": {
      "image/png": "[encoded data removed]",
      "text/plain": [
       "<Figure size 432x288 with 1 Axes>"
      ]
     },
     "metadata": {
      "needs_background": "light"
     },
     "output_type": "display_data"
    }
   ],
   "source": [
    "\n",
    "sns.histplot(data=df[\"95% margin of error of (SCORE*100)\"], binwidth=0.2)\n",
    "plt.title(\"Score stdev\")"
   ]
  },
  {
   "cell_type": "code",
   "execution_count": 24,
   "metadata": {},
   "outputs": [],
   "source": [
    "branch = df.loc[:, [\"Average of (SCORE*100)\", \"A/B branch\"]].groupby([\"A/B branch\"]).mean()"
   ]
  },
  {
   "cell_type": "code",
   "execution_count": 25,
   "metadata": {},
   "outputs": [
    {
     "data": {
      "text/html": [
       "<div>\n",
       "<style scoped>\n",
       "    .dataframe tbody tr th:only-of-type {\n",
       "        vertical-align: middle;\n",
       "    }\n",
       "\n",
       "    .dataframe tbody tr th {\n",
       "        vertical-align: top;\n",
       "    }\n",
       "\n",
       "    .dataframe thead th {\n",
       "        text-align: right;\n",
       "    }\n",
       "</style>\n",
       "<table border=\"1\" class=\"dataframe\">\n",
       "  <thead>\n",
       "    <tr style=\"text-align: right;\">\n",
       "      <th></th>\n",
       "      <th>Average of (SCORE*100)</th>\n",
       "    </tr>\n",
       "    <tr>\n",
       "      <th>A/B branch</th>\n",
       "      <th></th>\n",
       "    </tr>\n",
       "  </thead>\n",
       "  <tbody>\n",
       "    <tr>\n",
       "      <th>-1</th>\n",
       "      <td>239.613976</td>\n",
       "    </tr>\n",
       "    <tr>\n",
       "      <th>0</th>\n",
       "      <td>250.667113</td>\n",
       "    </tr>\n",
       "    <tr>\n",
       "      <th>1</th>\n",
       "      <td>253.393886</td>\n",
       "    </tr>\n",
       "    <tr>\n",
       "      <th>2</th>\n",
       "      <td>252.891887</td>\n",
       "    </tr>\n",
       "    <tr>\n",
       "      <th>3</th>\n",
       "      <td>253.749594</td>\n",
       "    </tr>\n",
       "  </tbody>\n",
       "</table>\n",
       "</div>"
      ],
      "text/plain": [
       "            Average of (SCORE*100)\n",
       "A/B branch                        \n",
       "-1                      239.613976\n",
       " 0                      250.667113\n",
       " 1                      253.393886\n",
       " 2                      252.891887\n",
       " 3                      253.749594"
      ]
     },
     "execution_count": 25,
     "metadata": {},
     "output_type": "execute_result"
    }
   ],
   "source": [
    "branch.head()"
   ]
  },
  {
   "cell_type": "code",
   "execution_count": 26,
   "metadata": {},
   "outputs": [
    {
     "data": {
      "text/plain": [
       "Text(0.5, 1.0, 'Average score correlated with percent cooperations')"
      ]
     },
     "execution_count": 26,
     "metadata": {},
     "output_type": "execute_result"
    },
    {
     "data": {
      "image/png": "[encoded data removed]",
      "text/plain": [
       "<Figure size 432x288 with 1 Axes>"
      ]
     },
     "metadata": {
      "needs_background": "light"
     },
     "output_type": "display_data"
    }
   ],
   "source": [
    "sns.regplot(x=\"% turns cooperated (equal weight to each game regardless of game length)\", y =\"Average of (SCORE*100)\",data =df )\n",
    "plt.title(\"Average score correlated with percent cooperations\")"
   ]
  },
  {
   "cell_type": "code",
   "execution_count": 27,
   "metadata": {},
   "outputs": [
    {
     "data": {
      "text/plain": [
       "Text(0.5, 1.0, 'Time took to code vs score')"
      ]
     },
     "execution_count": 27,
     "metadata": {},
     "output_type": "execute_result"
    },
    {
     "data": {
      "image/png": "[encoded data removed]",
      "text/plain": [
       "<Figure size 432x288 with 1 Axes>"
      ]
     },
     "metadata": {
      "needs_background": "light"
     },
     "output_type": "display_data"
    }
   ],
   "source": [
    "sns.regplot(x=\"Days after announcement submitted\", y =\"Average of (SCORE*100)\",data =df )\n",
    "plt.title(\"Time took to code vs score\")"
   ]
  },
  {
   "cell_type": "code",
   "execution_count": 28,
   "metadata": {},
   "outputs": [
    {
     "name": "stdout",
     "output_type": "stream",
     "text": [
      "<class 'pandas.core.frame.DataFrame'>\n",
      "Int64Index: 1403 entries, 0 to 1432\n",
      "Data columns (total 1 columns):\n",
      " #   Column                                            Non-Null Count  Dtype  \n",
      "---  ------                                            --------------  -----  \n",
      " 0   Runtime against 9 defaults (in ms) (~2,250 runs)  1403 non-null   float64\n",
      "dtypes: float64(1)\n",
      "memory usage: 21.9 KB\n"
     ]
    }
   ],
   "source": [
    "# sns.regplot(x=\"Runtime against 9 defaults (in ms) (~2,250 runs)\", y =\"Average of (SCORE*100)\",data =df, x )\n",
    "x = df[df[\"Runtime against 9 defaults (in ms) (~2,250 runs)\"]<1000].loc[:, [\"Runtime against 9 defaults (in ms) (~2,250 runs)\"]]\n",
    "x.info()\n",
    "y = df[[\"Average of (SCORE*100)\"]]\n",
    "# y.describe()\n",
    "# plt.scatter(x=x, y=y)\n",
    "# plt.title(\"Time that it takes to run against defaults vs score\")"
   ]
  },
  {
   "cell_type": "code",
   "execution_count": 29,
   "metadata": {},
   "outputs": [
    {
     "data": {
      "text/plain": [
       "Text(0.5, 1.0, 'Lines of code vs score')"
      ]
     },
     "execution_count": 29,
     "metadata": {},
     "output_type": "execute_result"
    },
    {
     "data": {
      "image/png": "[encoded data removed]",
      "text/plain": [
       "<Figure size 432x288 with 1 Axes>"
      ]
     },
     "metadata": {
      "needs_background": "light"
     },
     "output_type": "display_data"
    }
   ],
   "source": [
    "sns.regplot(x=\"Non-empty lines of code\", y =\"Average of (SCORE*100)\",data =df )\n",
    "plt.title(\"Lines of code vs score\")"
   ]
  },
  {
   "cell_type": "code",
   "execution_count": 30,
   "metadata": {},
   "outputs": [
    {
     "data": {
      "text/plain": [
       "Text(0.5, 1.0, 'cooperation percentages')"
      ]
     },
     "execution_count": 30,
     "metadata": {},
     "output_type": "execute_result"
    },
    {
     "data": {
      "image/png": "[encoded data removed]",
      "text/plain": [
       "<Figure size 432x288 with 1 Axes>"
      ]
     },
     "metadata": {
      "needs_background": "light"
     },
     "output_type": "display_data"
    }
   ],
   "source": [
    "sns.histplot(data=df[\"% turns cooperated (equal weight to each game regardless of game length)\"], binwidth=3)\n",
    "plt.title(\"cooperation percentages\")"
   ]
  },
  {
   "cell_type": "code",
   "execution_count": 33,
   "metadata": {},
   "outputs": [
    {
     "data": {
      "text/html": [
       "<div>\n",
       "<style scoped>\n",
       "    .dataframe tbody tr th:only-of-type {\n",
       "        vertical-align: middle;\n",
       "    }\n",
       "\n",
       "    .dataframe tbody tr th {\n",
       "        vertical-align: top;\n",
       "    }\n",
       "\n",
       "    .dataframe thead th {\n",
       "        text-align: right;\n",
       "    }\n",
       "</style>\n",
       "<table border=\"1\" class=\"dataframe\">\n",
       "  <thead>\n",
       "    <tr style=\"text-align: right;\">\n",
       "      <th></th>\n",
       "      <th>ID</th>\n",
       "      <th>Rank</th>\n",
       "      <th>Author</th>\n",
       "      <th>Strategy name</th>\n",
       "      <th>Passed sanity check? (no crash)</th>\n",
       "      <th>Trial count</th>\n",
       "      <th>Average of (SCORE*100)</th>\n",
       "      <th>95% margin of error of (SCORE*100)</th>\n",
       "      <th>Stdev of (SCORE*100)</th>\n",
       "      <th>% turns cooperated (equal weight to each game regardless of game length)</th>\n",
       "      <th>% coop rate stdev across diff opponents</th>\n",
       "      <th>Days after announcement submitted</th>\n",
       "      <th>Non-empty lines of code</th>\n",
       "      <th>Runtime against 9 defaults (in ms) (~2,250 runs)</th>\n",
       "      <th>A/B branch</th>\n",
       "    </tr>\n",
       "  </thead>\n",
       "  <tbody>\n",
       "    <tr>\n",
       "      <th>21</th>\n",
       "      <td>userStrats.s806</td>\n",
       "      <td>#22</td>\n",
       "      <td>The Fumino Team</td>\n",
       "      <td>FUMINO..py</td>\n",
       "      <td>TRUE</td>\n",
       "      <td>40</td>\n",
       "      <td>284.814</td>\n",
       "      <td>±0.141</td>\n",
       "      <td>56.853</td>\n",
       "      <td>86.149</td>\n",
       "      <td>31.714</td>\n",
       "      <td>4.97288</td>\n",
       "      <td>130</td>\n",
       "      <td>139.52</td>\n",
       "      <td>1</td>\n",
       "    </tr>\n",
       "  </tbody>\n",
       "</table>\n",
       "</div>"
      ],
      "text/plain": [
       "                 ID Rank           Author Strategy name  \\\n",
       "21  userStrats.s806  #22  The Fumino Team    FUMINO..py   \n",
       "\n",
       "   Passed sanity check? (no crash)  Trial count  Average of (SCORE*100)  \\\n",
       "21                            TRUE           40                 284.814   \n",
       "\n",
       "   95% margin of error of (SCORE*100)  Stdev of (SCORE*100)  \\\n",
       "21                             ±0.141                56.853   \n",
       "\n",
       "    % turns cooperated (equal weight to each game regardless of game length)  \\\n",
       "21                                             86.149                          \n",
       "\n",
       "    % coop rate stdev across diff opponents  \\\n",
       "21                                   31.714   \n",
       "\n",
       "    Days after announcement submitted  Non-empty lines of code  \\\n",
       "21                            4.97288                      130   \n",
       "\n",
       "    Runtime against 9 defaults (in ms) (~2,250 runs)  A/B branch  \n",
       "21                                            139.52           1  "
      ]
     },
     "execution_count": 33,
     "metadata": {},
     "output_type": "execute_result"
    }
   ],
   "source": [
    "df.loc[[21],: ]"
   ]
  },
  {
   "cell_type": "code",
   "execution_count": null,
   "metadata": {},
   "outputs": [],
   "source": []
  },
  {
   "cell_type": "code",
   "execution_count": null,
   "metadata": {},
   "outputs": [],
   "source": []
  },
  {
   "cell_type": "code",
   "execution_count": null,
   "metadata": {},
   "outputs": [],
   "source": []
  },
  {
   "cell_type": "code",
   "execution_count": null,
   "metadata": {},
   "outputs": [],
   "source": []
  }
 ],
 "metadata": {
  "kernelspec": {
   "display_name": "Python 3",
   "language": "python",
   "name": "python3"
  },
  "language_info": {
   "codemirror_mode": {
    "name": "ipython",
    "version": 3
   },
   "file_extension": ".py",
   "mimetype": "text/x-python",
   "name": "python",
   "nbconvert_exporter": "python",
   "pygments_lexer": "ipython3",
   "version": "3.8.5"
  }
 },
 "nbformat": 4,
 "nbformat_minor": 4
}
